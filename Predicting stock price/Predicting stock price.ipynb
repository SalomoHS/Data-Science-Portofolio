{
 "cells": [
  {
   "cell_type": "code",
   "execution_count": 30,
   "metadata": {
    "gather": {
     "logged": 1688367965512
    }
   },
   "outputs": [],
   "source": [
    "import pandas as pd\n",
    "import seaborn as sns\n",
    "import matplotlib.pyplot as plt\n",
    "import numpy as np\n",
    "from sklearn.preprocessing import StandardScaler, RobustScaler\n",
    "import tensorflow.keras.backend as K\n",
    "from sklearn.metrics import mean_squared_error, mean_absolute_error, mean_absolute_percentage_error\n",
    "from tensorflow.keras.layers import Dropout,LSTM, Dense, Conv1D,  MaxPooling1D, TimeDistributed,Input, concatenate, Bidirectional, AveragePooling1D, GRU\n",
    "from tensorflow.keras.models import Sequential"
   ]
  },
  {
   "cell_type": "markdown",
   "metadata": {
    "nteract": {
     "transient": {
      "deleting": false
     }
    }
   },
   "source": [
    "# Read Data"
   ]
  },
  {
   "cell_type": "code",
   "execution_count": 2,
   "metadata": {
    "gather": {
     "logged": 1688363206294
    },
    "jupyter": {
     "outputs_hidden": false,
     "source_hidden": false
    },
    "nteract": {
     "transient": {
      "deleting": false
     }
    }
   },
   "outputs": [],
   "source": [
    "AAPL = pd.read_csv('AAPL.csv')\n",
    "AMD = pd.read_csv('AMD.csv')"
   ]
  },
  {
   "cell_type": "markdown",
   "metadata": {
    "nteract": {
     "transient": {
      "deleting": false
     }
    }
   },
   "source": [
    "# Dataset Overview"
   ]
  },
  {
   "cell_type": "code",
   "execution_count": 3,
   "metadata": {
    "gather": {
     "logged": 1688351599442
    },
    "jupyter": {
     "outputs_hidden": false,
     "source_hidden": false
    },
    "nteract": {
     "transient": {
      "deleting": false
     }
    }
   },
   "outputs": [
    {
     "data": {
      "text/html": [
       "<div>\n",
       "<style scoped>\n",
       "    .dataframe tbody tr th:only-of-type {\n",
       "        vertical-align: middle;\n",
       "    }\n",
       "\n",
       "    .dataframe tbody tr th {\n",
       "        vertical-align: top;\n",
       "    }\n",
       "\n",
       "    .dataframe thead th {\n",
       "        text-align: right;\n",
       "    }\n",
       "</style>\n",
       "<table border=\"1\" class=\"dataframe\">\n",
       "  <thead>\n",
       "    <tr style=\"text-align: right;\">\n",
       "      <th></th>\n",
       "      <th>Date</th>\n",
       "      <th>Open</th>\n",
       "      <th>High</th>\n",
       "      <th>Low</th>\n",
       "      <th>Close</th>\n",
       "      <th>Adj Close</th>\n",
       "      <th>Volume</th>\n",
       "    </tr>\n",
       "  </thead>\n",
       "  <tbody>\n",
       "    <tr>\n",
       "      <th>0</th>\n",
       "      <td>1980-12-12</td>\n",
       "      <td>0.513393</td>\n",
       "      <td>0.515625</td>\n",
       "      <td>0.513393</td>\n",
       "      <td>0.513393</td>\n",
       "      <td>0.406782</td>\n",
       "      <td>117258400</td>\n",
       "    </tr>\n",
       "    <tr>\n",
       "      <th>1</th>\n",
       "      <td>1980-12-15</td>\n",
       "      <td>0.488839</td>\n",
       "      <td>0.488839</td>\n",
       "      <td>0.486607</td>\n",
       "      <td>0.486607</td>\n",
       "      <td>0.385558</td>\n",
       "      <td>43971200</td>\n",
       "    </tr>\n",
       "    <tr>\n",
       "      <th>2</th>\n",
       "      <td>1980-12-16</td>\n",
       "      <td>0.453125</td>\n",
       "      <td>0.453125</td>\n",
       "      <td>0.450893</td>\n",
       "      <td>0.450893</td>\n",
       "      <td>0.357260</td>\n",
       "      <td>26432000</td>\n",
       "    </tr>\n",
       "    <tr>\n",
       "      <th>3</th>\n",
       "      <td>1980-12-17</td>\n",
       "      <td>0.462054</td>\n",
       "      <td>0.464286</td>\n",
       "      <td>0.462054</td>\n",
       "      <td>0.462054</td>\n",
       "      <td>0.366103</td>\n",
       "      <td>21610400</td>\n",
       "    </tr>\n",
       "    <tr>\n",
       "      <th>4</th>\n",
       "      <td>1980-12-18</td>\n",
       "      <td>0.475446</td>\n",
       "      <td>0.477679</td>\n",
       "      <td>0.475446</td>\n",
       "      <td>0.475446</td>\n",
       "      <td>0.376715</td>\n",
       "      <td>18362400</td>\n",
       "    </tr>\n",
       "    <tr>\n",
       "      <th>...</th>\n",
       "      <td>...</td>\n",
       "      <td>...</td>\n",
       "      <td>...</td>\n",
       "      <td>...</td>\n",
       "      <td>...</td>\n",
       "      <td>...</td>\n",
       "      <td>...</td>\n",
       "    </tr>\n",
       "    <tr>\n",
       "      <th>9904</th>\n",
       "      <td>2020-03-26</td>\n",
       "      <td>246.520004</td>\n",
       "      <td>258.679993</td>\n",
       "      <td>246.360001</td>\n",
       "      <td>258.440002</td>\n",
       "      <td>258.440002</td>\n",
       "      <td>63021800</td>\n",
       "    </tr>\n",
       "    <tr>\n",
       "      <th>9905</th>\n",
       "      <td>2020-03-27</td>\n",
       "      <td>252.750000</td>\n",
       "      <td>255.869995</td>\n",
       "      <td>247.050003</td>\n",
       "      <td>247.740005</td>\n",
       "      <td>247.740005</td>\n",
       "      <td>51054200</td>\n",
       "    </tr>\n",
       "    <tr>\n",
       "      <th>9906</th>\n",
       "      <td>2020-03-30</td>\n",
       "      <td>250.740005</td>\n",
       "      <td>255.520004</td>\n",
       "      <td>249.399994</td>\n",
       "      <td>254.809998</td>\n",
       "      <td>254.809998</td>\n",
       "      <td>41994100</td>\n",
       "    </tr>\n",
       "    <tr>\n",
       "      <th>9907</th>\n",
       "      <td>2020-03-31</td>\n",
       "      <td>255.600006</td>\n",
       "      <td>262.489990</td>\n",
       "      <td>252.000000</td>\n",
       "      <td>254.289993</td>\n",
       "      <td>254.289993</td>\n",
       "      <td>49250500</td>\n",
       "    </tr>\n",
       "    <tr>\n",
       "      <th>9908</th>\n",
       "      <td>2020-04-01</td>\n",
       "      <td>246.500000</td>\n",
       "      <td>248.720001</td>\n",
       "      <td>239.130005</td>\n",
       "      <td>240.910004</td>\n",
       "      <td>240.910004</td>\n",
       "      <td>43956200</td>\n",
       "    </tr>\n",
       "  </tbody>\n",
       "</table>\n",
       "<p>9909 rows × 7 columns</p>\n",
       "</div>"
      ],
      "text/plain": [
       "            Date        Open        High         Low       Close   Adj Close  \\\n",
       "0     1980-12-12    0.513393    0.515625    0.513393    0.513393    0.406782   \n",
       "1     1980-12-15    0.488839    0.488839    0.486607    0.486607    0.385558   \n",
       "2     1980-12-16    0.453125    0.453125    0.450893    0.450893    0.357260   \n",
       "3     1980-12-17    0.462054    0.464286    0.462054    0.462054    0.366103   \n",
       "4     1980-12-18    0.475446    0.477679    0.475446    0.475446    0.376715   \n",
       "...          ...         ...         ...         ...         ...         ...   \n",
       "9904  2020-03-26  246.520004  258.679993  246.360001  258.440002  258.440002   \n",
       "9905  2020-03-27  252.750000  255.869995  247.050003  247.740005  247.740005   \n",
       "9906  2020-03-30  250.740005  255.520004  249.399994  254.809998  254.809998   \n",
       "9907  2020-03-31  255.600006  262.489990  252.000000  254.289993  254.289993   \n",
       "9908  2020-04-01  246.500000  248.720001  239.130005  240.910004  240.910004   \n",
       "\n",
       "         Volume  \n",
       "0     117258400  \n",
       "1      43971200  \n",
       "2      26432000  \n",
       "3      21610400  \n",
       "4      18362400  \n",
       "...         ...  \n",
       "9904   63021800  \n",
       "9905   51054200  \n",
       "9906   41994100  \n",
       "9907   49250500  \n",
       "9908   43956200  \n",
       "\n",
       "[9909 rows x 7 columns]"
      ]
     },
     "execution_count": 3,
     "metadata": {},
     "output_type": "execute_result"
    }
   ],
   "source": [
    "AAPL"
   ]
  },
  {
   "cell_type": "code",
   "execution_count": 4,
   "metadata": {
    "gather": {
     "logged": 1688351602195
    },
    "jupyter": {
     "outputs_hidden": false,
     "source_hidden": false
    },
    "nteract": {
     "transient": {
      "deleting": false
     }
    }
   },
   "outputs": [
    {
     "data": {
      "text/html": [
       "<div>\n",
       "<style scoped>\n",
       "    .dataframe tbody tr th:only-of-type {\n",
       "        vertical-align: middle;\n",
       "    }\n",
       "\n",
       "    .dataframe tbody tr th {\n",
       "        vertical-align: top;\n",
       "    }\n",
       "\n",
       "    .dataframe thead th {\n",
       "        text-align: right;\n",
       "    }\n",
       "</style>\n",
       "<table border=\"1\" class=\"dataframe\">\n",
       "  <thead>\n",
       "    <tr style=\"text-align: right;\">\n",
       "      <th></th>\n",
       "      <th>Date</th>\n",
       "      <th>Open</th>\n",
       "      <th>High</th>\n",
       "      <th>Low</th>\n",
       "      <th>Close</th>\n",
       "      <th>Adj Close</th>\n",
       "      <th>Volume</th>\n",
       "    </tr>\n",
       "  </thead>\n",
       "  <tbody>\n",
       "    <tr>\n",
       "      <th>0</th>\n",
       "      <td>1980-03-17</td>\n",
       "      <td>0.000000</td>\n",
       "      <td>3.302083</td>\n",
       "      <td>3.125000</td>\n",
       "      <td>3.145833</td>\n",
       "      <td>3.145833</td>\n",
       "      <td>219600</td>\n",
       "    </tr>\n",
       "    <tr>\n",
       "      <th>1</th>\n",
       "      <td>1980-03-18</td>\n",
       "      <td>0.000000</td>\n",
       "      <td>3.125000</td>\n",
       "      <td>2.937500</td>\n",
       "      <td>3.031250</td>\n",
       "      <td>3.031250</td>\n",
       "      <td>727200</td>\n",
       "    </tr>\n",
       "    <tr>\n",
       "      <th>2</th>\n",
       "      <td>1980-03-19</td>\n",
       "      <td>0.000000</td>\n",
       "      <td>3.083333</td>\n",
       "      <td>3.020833</td>\n",
       "      <td>3.041667</td>\n",
       "      <td>3.041667</td>\n",
       "      <td>295200</td>\n",
       "    </tr>\n",
       "    <tr>\n",
       "      <th>3</th>\n",
       "      <td>1980-03-20</td>\n",
       "      <td>0.000000</td>\n",
       "      <td>3.062500</td>\n",
       "      <td>3.010417</td>\n",
       "      <td>3.010417</td>\n",
       "      <td>3.010417</td>\n",
       "      <td>159600</td>\n",
       "    </tr>\n",
       "    <tr>\n",
       "      <th>4</th>\n",
       "      <td>1980-03-21</td>\n",
       "      <td>0.000000</td>\n",
       "      <td>3.020833</td>\n",
       "      <td>2.906250</td>\n",
       "      <td>2.916667</td>\n",
       "      <td>2.916667</td>\n",
       "      <td>130800</td>\n",
       "    </tr>\n",
       "    <tr>\n",
       "      <th>...</th>\n",
       "      <td>...</td>\n",
       "      <td>...</td>\n",
       "      <td>...</td>\n",
       "      <td>...</td>\n",
       "      <td>...</td>\n",
       "      <td>...</td>\n",
       "      <td>...</td>\n",
       "    </tr>\n",
       "    <tr>\n",
       "      <th>10093</th>\n",
       "      <td>2020-03-26</td>\n",
       "      <td>45.779999</td>\n",
       "      <td>47.500000</td>\n",
       "      <td>45.400002</td>\n",
       "      <td>47.500000</td>\n",
       "      <td>47.500000</td>\n",
       "      <td>73680200</td>\n",
       "    </tr>\n",
       "    <tr>\n",
       "      <th>10094</th>\n",
       "      <td>2020-03-27</td>\n",
       "      <td>46.320000</td>\n",
       "      <td>47.980000</td>\n",
       "      <td>45.900002</td>\n",
       "      <td>46.580002</td>\n",
       "      <td>46.580002</td>\n",
       "      <td>74599200</td>\n",
       "    </tr>\n",
       "    <tr>\n",
       "      <th>10095</th>\n",
       "      <td>2020-03-30</td>\n",
       "      <td>47.240002</td>\n",
       "      <td>48.459999</td>\n",
       "      <td>46.660000</td>\n",
       "      <td>47.860001</td>\n",
       "      <td>47.860001</td>\n",
       "      <td>68486600</td>\n",
       "    </tr>\n",
       "    <tr>\n",
       "      <th>10096</th>\n",
       "      <td>2020-03-31</td>\n",
       "      <td>47.930000</td>\n",
       "      <td>48.529999</td>\n",
       "      <td>45.160000</td>\n",
       "      <td>45.480000</td>\n",
       "      <td>45.480000</td>\n",
       "      <td>83483700</td>\n",
       "    </tr>\n",
       "    <tr>\n",
       "      <th>10097</th>\n",
       "      <td>2020-04-01</td>\n",
       "      <td>44.180000</td>\n",
       "      <td>46.849998</td>\n",
       "      <td>43.160000</td>\n",
       "      <td>43.660000</td>\n",
       "      <td>43.660000</td>\n",
       "      <td>91895000</td>\n",
       "    </tr>\n",
       "  </tbody>\n",
       "</table>\n",
       "<p>10098 rows × 7 columns</p>\n",
       "</div>"
      ],
      "text/plain": [
       "             Date       Open       High        Low      Close  Adj Close  \\\n",
       "0      1980-03-17   0.000000   3.302083   3.125000   3.145833   3.145833   \n",
       "1      1980-03-18   0.000000   3.125000   2.937500   3.031250   3.031250   \n",
       "2      1980-03-19   0.000000   3.083333   3.020833   3.041667   3.041667   \n",
       "3      1980-03-20   0.000000   3.062500   3.010417   3.010417   3.010417   \n",
       "4      1980-03-21   0.000000   3.020833   2.906250   2.916667   2.916667   \n",
       "...           ...        ...        ...        ...        ...        ...   \n",
       "10093  2020-03-26  45.779999  47.500000  45.400002  47.500000  47.500000   \n",
       "10094  2020-03-27  46.320000  47.980000  45.900002  46.580002  46.580002   \n",
       "10095  2020-03-30  47.240002  48.459999  46.660000  47.860001  47.860001   \n",
       "10096  2020-03-31  47.930000  48.529999  45.160000  45.480000  45.480000   \n",
       "10097  2020-04-01  44.180000  46.849998  43.160000  43.660000  43.660000   \n",
       "\n",
       "         Volume  \n",
       "0        219600  \n",
       "1        727200  \n",
       "2        295200  \n",
       "3        159600  \n",
       "4        130800  \n",
       "...         ...  \n",
       "10093  73680200  \n",
       "10094  74599200  \n",
       "10095  68486600  \n",
       "10096  83483700  \n",
       "10097  91895000  \n",
       "\n",
       "[10098 rows x 7 columns]"
      ]
     },
     "execution_count": 4,
     "metadata": {},
     "output_type": "execute_result"
    }
   ],
   "source": [
    "AMD"
   ]
  },
  {
   "cell_type": "markdown",
   "metadata": {
    "nteract": {
     "transient": {
      "deleting": false
     }
    }
   },
   "source": [
    "# Data Exploration"
   ]
  },
  {
   "cell_type": "markdown",
   "metadata": {},
   "source": [
    "**Hal yang dilakukan:**\n",
    "\n",
    "- Identifikasi **dimensi** untuk kedua dataset.\n",
    "- Investigasi **nilai null**.\n",
    "- Observasi **tipe data** setiap kolom.\n",
    "- Mengidentifikasi **kejanggalan** berdasarkan info dataset."
   ]
  },
  {
   "cell_type": "markdown",
   "metadata": {},
   "source": [
    "**Fakta:**\n",
    "\n",
    "- Kedua dataset yang diberikan memiliki **persamaan nama kolom dan tipe data** untuk setiap kolomnya. Namun, dataset saham perusahaan AAPL memiliki jumlah baris yang berbeda dengan perusahaan AMD. Untuk perusahaan **AAPL** memiliki **9909** baris, dan perusahaan **AMD** memiliki **10098**.\n",
    "- Pada info kedua dataset menampilkan bahwa **tidak ada nilai null** yang terdeteksi. Namun, jika diteliti lebih dalam pada preview dataset, **tanggal** untuk kedua dataset **tidak penuh dalam seminggu**. Dimana tanggal yang ada pada dataset hanya hari **senin sampai jumat** dan **bukan tanggal merah**. Artinya, sabtu, minggu, dan tangggal merah seperti natal tidak memiliki record.\n",
    "- **Tipe data** yang **dominan** pada dataset adalah tipe data **numerikal**, seperti integer dan float. Terdapat juga tipe data lainnya seperti **object** untuk kolom **Date**.\n",
    "- Pada kolom **Date** merepresentasikan tanggal, namun masih teridentifikasi sebagai **object**. Sehingga tipe data perlu **diubah** menjadi **datetime**."
   ]
  },
  {
   "cell_type": "markdown",
   "metadata": {},
   "source": [
    "**Langkah selanjutnya**:\n",
    "\n",
    "- **Mengisi tanggal hari libur** agar windows size berjumlah sama tiap minggunya.\n",
    "- **Mengisi null** value pada tanggal yang baru ditambahkan dengan nilai sebelumnya.\n",
    "- **Mengubah** kolom **Date** menjadi tipe data **datetime**."
   ]
  },
  {
   "cell_type": "code",
   "execution_count": 5,
   "metadata": {
    "gather": {
     "logged": 1688352009383
    },
    "jupyter": {
     "outputs_hidden": false,
     "source_hidden": false
    },
    "nteract": {
     "transient": {
      "deleting": false
     }
    }
   },
   "outputs": [
    {
     "name": "stdout",
     "output_type": "stream",
     "text": [
      "<class 'pandas.core.frame.DataFrame'>\n",
      "RangeIndex: 9909 entries, 0 to 9908\n",
      "Data columns (total 7 columns):\n",
      " #   Column     Non-Null Count  Dtype  \n",
      "---  ------     --------------  -----  \n",
      " 0   Date       9909 non-null   object \n",
      " 1   Open       9909 non-null   float64\n",
      " 2   High       9909 non-null   float64\n",
      " 3   Low        9909 non-null   float64\n",
      " 4   Close      9909 non-null   float64\n",
      " 5   Adj Close  9909 non-null   float64\n",
      " 6   Volume     9909 non-null   int64  \n",
      "dtypes: float64(5), int64(1), object(1)\n",
      "memory usage: 542.0+ KB\n"
     ]
    }
   ],
   "source": [
    "AAPL.info()"
   ]
  },
  {
   "cell_type": "code",
   "execution_count": 6,
   "metadata": {
    "gather": {
     "logged": 1688341724278
    },
    "jupyter": {
     "outputs_hidden": false,
     "source_hidden": false
    },
    "nteract": {
     "transient": {
      "deleting": false
     }
    }
   },
   "outputs": [
    {
     "name": "stdout",
     "output_type": "stream",
     "text": [
      "<class 'pandas.core.frame.DataFrame'>\n",
      "RangeIndex: 10098 entries, 0 to 10097\n",
      "Data columns (total 7 columns):\n",
      " #   Column     Non-Null Count  Dtype  \n",
      "---  ------     --------------  -----  \n",
      " 0   Date       10098 non-null  object \n",
      " 1   Open       10098 non-null  float64\n",
      " 2   High       10098 non-null  float64\n",
      " 3   Low        10098 non-null  float64\n",
      " 4   Close      10098 non-null  float64\n",
      " 5   Adj Close  10098 non-null  float64\n",
      " 6   Volume     10098 non-null  int64  \n",
      "dtypes: float64(5), int64(1), object(1)\n",
      "memory usage: 552.4+ KB\n"
     ]
    }
   ],
   "source": [
    "AMD.info()"
   ]
  },
  {
   "cell_type": "markdown",
   "metadata": {
    "nteract": {
     "transient": {
      "deleting": false
     }
    }
   },
   "source": [
    "## Summary statistics"
   ]
  },
  {
   "cell_type": "markdown",
   "metadata": {},
   "source": [
    "**Hal yang dilakukan:**\n",
    "\n",
    "- Mengidentifikasi **baris duplikat**.\n",
    "- Mengidentifikasi **nilai anomali**.\n",
    "- Menelaah **nilai varians**.\n",
    "- Mengidentifikasi **kejanggalan** berdasarkan ringkasan statistik."
   ]
  },
  {
   "cell_type": "markdown",
   "metadata": {},
   "source": [
    "**Fakta:**\n",
    "\n",
    "- Telah di identifikasi bahwa kedua dataset **tidak memiliki data yang duplikat**.\n",
    "- Dilihat pada nilai **mean** dan **median**, terindikasi bahwa kedua dataset mayoritas **memiliki nilai anomali** untuk setiap kolomnya, karena **terdapat rentang** antar kedua nilai tersebut. Namun nilai anomali ini tidak dapat dihapus atau tergantikan, karena digunakan sebagai indikasi `peak value` pada pergerakan harga saham.\n",
    "- Perlu diperhatikan lebih lagi bahwa nilai **standar deviasi** untuk setiap kolomnya mengindikasikan bahwa sebaran nilai nya **cukup tinggi**, seperti pada dataset **AAPL** contohnya, yang menyentuh angka **50 lebih**. Artinya, pergerakan saham AAPL **sangatlah fluktuatif**.\n",
    "- Sebelumnya telah dilihat bahwa kedua dataset memiliki nilai **standar deviasi yang tinggi**. Dengan ini dapat menyebabkan model yang dibuat nanti memiliki **komputasi yang kompleks**, lalu berpengaruh pada performa model."
   ]
  },
  {
   "cell_type": "markdown",
   "metadata": {
    "nteract": {
     "transient": {
      "deleting": false
     }
    }
   },
   "source": [
    "**Langkah selanjutnya:**\n",
    "\n",
    "Melakukan scaling pada kedua dataset menggunakan RobustScaler dari library sklearn. RobustScaler akan mentransformasi nilai dengan formula berikut:\n",
    "$$\n",
    "  Xscaled​= \\frac{X - Q2}{Q3 - Q1}\n",
    "$$\n",
    "\n",
    "dikurangi nilai median lalu dibagi dengan rentang interkuartil — rentang antara kuartil ke-1 (persentil ke-25) dan ke-3 kuartil (persentil ke-75). Menariknya, nilai outliers yang ditransformasi dengan RobustScaler akan tetap terdeteksi. Hal tersebut telah ditulis dalam cetakan ang ditulis oleh Arjan Reurink & Javier Garcia-Bernardo tahun 2020 pada kasus yang sama, yaitu data harga saham. Dengan menggunakan RobustScaler data yang telah di scaling akan tetap merepresentasikan nilai aktualnya.\n",
    "\n",
    "Reference:\n",
    "- Reurink, A., & Garcia-Bernardo, J. (2020). Competing for capitals: the great fragmentation of the firm and varieties of FDI attraction profiles in the European Union. Review of International Political Economy, 1–34. doi:10.1080/09692290.2020.1737564 \n"
   ]
  },
  {
   "cell_type": "code",
   "execution_count": 7,
   "metadata": {
    "gather": {
     "logged": 1688343585668
    },
    "jupyter": {
     "outputs_hidden": false,
     "source_hidden": false
    },
    "nteract": {
     "transient": {
      "deleting": false
     }
    }
   },
   "outputs": [
    {
     "data": {
      "text/html": [
       "<div>\n",
       "<style scoped>\n",
       "    .dataframe tbody tr th:only-of-type {\n",
       "        vertical-align: middle;\n",
       "    }\n",
       "\n",
       "    .dataframe tbody tr th {\n",
       "        vertical-align: top;\n",
       "    }\n",
       "\n",
       "    .dataframe thead th {\n",
       "        text-align: right;\n",
       "    }\n",
       "</style>\n",
       "<table border=\"1\" class=\"dataframe\">\n",
       "  <thead>\n",
       "    <tr style=\"text-align: right;\">\n",
       "      <th></th>\n",
       "      <th>Open</th>\n",
       "      <th>High</th>\n",
       "      <th>Low</th>\n",
       "      <th>Close</th>\n",
       "      <th>Adj Close</th>\n",
       "      <th>Volume</th>\n",
       "    </tr>\n",
       "  </thead>\n",
       "  <tbody>\n",
       "    <tr>\n",
       "      <th>count</th>\n",
       "      <td>9909.000000</td>\n",
       "      <td>9909.000000</td>\n",
       "      <td>9909.000000</td>\n",
       "      <td>9909.000000</td>\n",
       "      <td>9909.000000</td>\n",
       "      <td>9.909000e+03</td>\n",
       "    </tr>\n",
       "    <tr>\n",
       "      <th>mean</th>\n",
       "      <td>32.606849</td>\n",
       "      <td>32.936079</td>\n",
       "      <td>32.277560</td>\n",
       "      <td>32.618030</td>\n",
       "      <td>30.576570</td>\n",
       "      <td>8.582916e+07</td>\n",
       "    </tr>\n",
       "    <tr>\n",
       "      <th>std</th>\n",
       "      <td>58.415759</td>\n",
       "      <td>59.001576</td>\n",
       "      <td>57.883037</td>\n",
       "      <td>58.471899</td>\n",
       "      <td>56.746275</td>\n",
       "      <td>8.597195e+07</td>\n",
       "    </tr>\n",
       "    <tr>\n",
       "      <th>min</th>\n",
       "      <td>0.198661</td>\n",
       "      <td>0.198661</td>\n",
       "      <td>0.196429</td>\n",
       "      <td>0.196429</td>\n",
       "      <td>0.155638</td>\n",
       "      <td>3.472000e+05</td>\n",
       "    </tr>\n",
       "    <tr>\n",
       "      <th>25%</th>\n",
       "      <td>1.071429</td>\n",
       "      <td>1.089286</td>\n",
       "      <td>1.048571</td>\n",
       "      <td>1.071429</td>\n",
       "      <td>0.917643</td>\n",
       "      <td>3.304230e+07</td>\n",
       "    </tr>\n",
       "    <tr>\n",
       "      <th>50%</th>\n",
       "      <td>1.729286</td>\n",
       "      <td>1.758929</td>\n",
       "      <td>1.696429</td>\n",
       "      <td>1.732143</td>\n",
       "      <td>1.466154</td>\n",
       "      <td>5.766490e+07</td>\n",
       "    </tr>\n",
       "    <tr>\n",
       "      <th>75%</th>\n",
       "      <td>35.799999</td>\n",
       "      <td>36.265713</td>\n",
       "      <td>35.328571</td>\n",
       "      <td>35.761429</td>\n",
       "      <td>31.042374</td>\n",
       "      <td>1.069992e+08</td>\n",
       "    </tr>\n",
       "    <tr>\n",
       "      <th>max</th>\n",
       "      <td>324.739990</td>\n",
       "      <td>327.850006</td>\n",
       "      <td>323.350006</td>\n",
       "      <td>327.200012</td>\n",
       "      <td>327.200012</td>\n",
       "      <td>1.855410e+09</td>\n",
       "    </tr>\n",
       "  </tbody>\n",
       "</table>\n",
       "</div>"
      ],
      "text/plain": [
       "              Open         High          Low        Close    Adj Close  \\\n",
       "count  9909.000000  9909.000000  9909.000000  9909.000000  9909.000000   \n",
       "mean     32.606849    32.936079    32.277560    32.618030    30.576570   \n",
       "std      58.415759    59.001576    57.883037    58.471899    56.746275   \n",
       "min       0.198661     0.198661     0.196429     0.196429     0.155638   \n",
       "25%       1.071429     1.089286     1.048571     1.071429     0.917643   \n",
       "50%       1.729286     1.758929     1.696429     1.732143     1.466154   \n",
       "75%      35.799999    36.265713    35.328571    35.761429    31.042374   \n",
       "max     324.739990   327.850006   323.350006   327.200012   327.200012   \n",
       "\n",
       "             Volume  \n",
       "count  9.909000e+03  \n",
       "mean   8.582916e+07  \n",
       "std    8.597195e+07  \n",
       "min    3.472000e+05  \n",
       "25%    3.304230e+07  \n",
       "50%    5.766490e+07  \n",
       "75%    1.069992e+08  \n",
       "max    1.855410e+09  "
      ]
     },
     "execution_count": 7,
     "metadata": {},
     "output_type": "execute_result"
    }
   ],
   "source": [
    "AAPL.describe()"
   ]
  },
  {
   "cell_type": "code",
   "execution_count": 8,
   "metadata": {
    "gather": {
     "logged": 1688343650754
    },
    "jupyter": {
     "outputs_hidden": false,
     "source_hidden": false
    },
    "nteract": {
     "transient": {
      "deleting": false
     }
    }
   },
   "outputs": [
    {
     "data": {
      "text/html": [
       "<div>\n",
       "<style scoped>\n",
       "    .dataframe tbody tr th:only-of-type {\n",
       "        vertical-align: middle;\n",
       "    }\n",
       "\n",
       "    .dataframe tbody tr th {\n",
       "        vertical-align: top;\n",
       "    }\n",
       "\n",
       "    .dataframe thead th {\n",
       "        text-align: right;\n",
       "    }\n",
       "</style>\n",
       "<table border=\"1\" class=\"dataframe\">\n",
       "  <thead>\n",
       "    <tr style=\"text-align: right;\">\n",
       "      <th></th>\n",
       "      <th>Date</th>\n",
       "    </tr>\n",
       "  </thead>\n",
       "  <tbody>\n",
       "    <tr>\n",
       "      <th>count</th>\n",
       "      <td>9909</td>\n",
       "    </tr>\n",
       "    <tr>\n",
       "      <th>unique</th>\n",
       "      <td>9909</td>\n",
       "    </tr>\n",
       "    <tr>\n",
       "      <th>top</th>\n",
       "      <td>1980-12-12</td>\n",
       "    </tr>\n",
       "    <tr>\n",
       "      <th>freq</th>\n",
       "      <td>1</td>\n",
       "    </tr>\n",
       "  </tbody>\n",
       "</table>\n",
       "</div>"
      ],
      "text/plain": [
       "              Date\n",
       "count         9909\n",
       "unique        9909\n",
       "top     1980-12-12\n",
       "freq             1"
      ]
     },
     "execution_count": 8,
     "metadata": {},
     "output_type": "execute_result"
    }
   ],
   "source": [
    "AAPL.describe(include=['O'])"
   ]
  },
  {
   "cell_type": "code",
   "execution_count": 9,
   "metadata": {
    "gather": {
     "logged": 1688343596574
    },
    "jupyter": {
     "outputs_hidden": false,
     "source_hidden": false
    },
    "nteract": {
     "transient": {
      "deleting": false
     }
    }
   },
   "outputs": [
    {
     "data": {
      "text/html": [
       "<div>\n",
       "<style scoped>\n",
       "    .dataframe tbody tr th:only-of-type {\n",
       "        vertical-align: middle;\n",
       "    }\n",
       "\n",
       "    .dataframe tbody tr th {\n",
       "        vertical-align: top;\n",
       "    }\n",
       "\n",
       "    .dataframe thead th {\n",
       "        text-align: right;\n",
       "    }\n",
       "</style>\n",
       "<table border=\"1\" class=\"dataframe\">\n",
       "  <thead>\n",
       "    <tr style=\"text-align: right;\">\n",
       "      <th></th>\n",
       "      <th>Open</th>\n",
       "      <th>High</th>\n",
       "      <th>Low</th>\n",
       "      <th>Close</th>\n",
       "      <th>Adj Close</th>\n",
       "      <th>Volume</th>\n",
       "    </tr>\n",
       "  </thead>\n",
       "  <tbody>\n",
       "    <tr>\n",
       "      <th>count</th>\n",
       "      <td>10098.000000</td>\n",
       "      <td>10098.000000</td>\n",
       "      <td>10098.000000</td>\n",
       "      <td>10098.000000</td>\n",
       "      <td>10098.000000</td>\n",
       "      <td>1.009800e+04</td>\n",
       "    </tr>\n",
       "    <tr>\n",
       "      <th>mean</th>\n",
       "      <td>10.889136</td>\n",
       "      <td>11.462153</td>\n",
       "      <td>10.958702</td>\n",
       "      <td>11.210802</td>\n",
       "      <td>11.210802</td>\n",
       "      <td>1.451625e+07</td>\n",
       "    </tr>\n",
       "    <tr>\n",
       "      <th>std</th>\n",
       "      <td>8.615288</td>\n",
       "      <td>8.475056</td>\n",
       "      <td>8.077069</td>\n",
       "      <td>8.283645</td>\n",
       "      <td>8.283645</td>\n",
       "      <td>2.396199e+07</td>\n",
       "    </tr>\n",
       "    <tr>\n",
       "      <th>min</th>\n",
       "      <td>0.000000</td>\n",
       "      <td>1.690000</td>\n",
       "      <td>1.610000</td>\n",
       "      <td>1.620000</td>\n",
       "      <td>1.620000</td>\n",
       "      <td>0.000000e+00</td>\n",
       "    </tr>\n",
       "    <tr>\n",
       "      <th>25%</th>\n",
       "      <td>4.562500</td>\n",
       "      <td>5.062500</td>\n",
       "      <td>4.812500</td>\n",
       "      <td>4.937500</td>\n",
       "      <td>4.937500</td>\n",
       "      <td>1.098600e+06</td>\n",
       "    </tr>\n",
       "    <tr>\n",
       "      <th>50%</th>\n",
       "      <td>9.062500</td>\n",
       "      <td>9.280625</td>\n",
       "      <td>8.875000</td>\n",
       "      <td>9.062500</td>\n",
       "      <td>9.062500</td>\n",
       "      <td>5.518500e+06</td>\n",
       "    </tr>\n",
       "    <tr>\n",
       "      <th>75%</th>\n",
       "      <td>14.747500</td>\n",
       "      <td>15.000000</td>\n",
       "      <td>14.435625</td>\n",
       "      <td>14.707500</td>\n",
       "      <td>14.707500</td>\n",
       "      <td>1.742722e+07</td>\n",
       "    </tr>\n",
       "    <tr>\n",
       "      <th>max</th>\n",
       "      <td>58.439999</td>\n",
       "      <td>59.270000</td>\n",
       "      <td>57.509998</td>\n",
       "      <td>58.900002</td>\n",
       "      <td>58.900002</td>\n",
       "      <td>3.250584e+08</td>\n",
       "    </tr>\n",
       "  </tbody>\n",
       "</table>\n",
       "</div>"
      ],
      "text/plain": [
       "               Open          High           Low         Close     Adj Close  \\\n",
       "count  10098.000000  10098.000000  10098.000000  10098.000000  10098.000000   \n",
       "mean      10.889136     11.462153     10.958702     11.210802     11.210802   \n",
       "std        8.615288      8.475056      8.077069      8.283645      8.283645   \n",
       "min        0.000000      1.690000      1.610000      1.620000      1.620000   \n",
       "25%        4.562500      5.062500      4.812500      4.937500      4.937500   \n",
       "50%        9.062500      9.280625      8.875000      9.062500      9.062500   \n",
       "75%       14.747500     15.000000     14.435625     14.707500     14.707500   \n",
       "max       58.439999     59.270000     57.509998     58.900002     58.900002   \n",
       "\n",
       "             Volume  \n",
       "count  1.009800e+04  \n",
       "mean   1.451625e+07  \n",
       "std    2.396199e+07  \n",
       "min    0.000000e+00  \n",
       "25%    1.098600e+06  \n",
       "50%    5.518500e+06  \n",
       "75%    1.742722e+07  \n",
       "max    3.250584e+08  "
      ]
     },
     "execution_count": 9,
     "metadata": {},
     "output_type": "execute_result"
    }
   ],
   "source": [
    "AMD.describe()"
   ]
  },
  {
   "cell_type": "code",
   "execution_count": 10,
   "metadata": {
    "gather": {
     "logged": 1688344232236
    },
    "jupyter": {
     "outputs_hidden": false,
     "source_hidden": false
    },
    "nteract": {
     "transient": {
      "deleting": false
     }
    }
   },
   "outputs": [
    {
     "data": {
      "text/html": [
       "<div>\n",
       "<style scoped>\n",
       "    .dataframe tbody tr th:only-of-type {\n",
       "        vertical-align: middle;\n",
       "    }\n",
       "\n",
       "    .dataframe tbody tr th {\n",
       "        vertical-align: top;\n",
       "    }\n",
       "\n",
       "    .dataframe thead th {\n",
       "        text-align: right;\n",
       "    }\n",
       "</style>\n",
       "<table border=\"1\" class=\"dataframe\">\n",
       "  <thead>\n",
       "    <tr style=\"text-align: right;\">\n",
       "      <th></th>\n",
       "      <th>Date</th>\n",
       "    </tr>\n",
       "  </thead>\n",
       "  <tbody>\n",
       "    <tr>\n",
       "      <th>count</th>\n",
       "      <td>10098</td>\n",
       "    </tr>\n",
       "    <tr>\n",
       "      <th>unique</th>\n",
       "      <td>10098</td>\n",
       "    </tr>\n",
       "    <tr>\n",
       "      <th>top</th>\n",
       "      <td>1980-03-17</td>\n",
       "    </tr>\n",
       "    <tr>\n",
       "      <th>freq</th>\n",
       "      <td>1</td>\n",
       "    </tr>\n",
       "  </tbody>\n",
       "</table>\n",
       "</div>"
      ],
      "text/plain": [
       "              Date\n",
       "count        10098\n",
       "unique       10098\n",
       "top     1980-03-17\n",
       "freq             1"
      ]
     },
     "execution_count": 10,
     "metadata": {},
     "output_type": "execute_result"
    }
   ],
   "source": [
    "AMD.describe(include=['O'])"
   ]
  },
  {
   "cell_type": "markdown",
   "metadata": {
    "nteract": {
     "transient": {
      "deleting": false
     }
    }
   },
   "source": [
    "# Data transformation"
   ]
  },
  {
   "cell_type": "code",
   "execution_count": 22,
   "metadata": {
    "gather": {
     "logged": 1688363301192
    },
    "jupyter": {
     "outputs_hidden": false,
     "source_hidden": false
    },
    "nteract": {
     "transient": {
      "deleting": false
     }
    }
   },
   "outputs": [],
   "source": [
    "AAPL_copy = AAPL.copy()\n",
    "AMD_copy = AMD.copy()"
   ]
  },
  {
   "cell_type": "markdown",
   "metadata": {
    "nteract": {
     "transient": {
      "deleting": false
     }
    }
   },
   "source": [
    "## Change date column data type"
   ]
  },
  {
   "cell_type": "code",
   "execution_count": 23,
   "metadata": {
    "gather": {
     "logged": 1688363303669
    },
    "jupyter": {
     "outputs_hidden": false,
     "source_hidden": false
    },
    "nteract": {
     "transient": {
      "deleting": false
     }
    }
   },
   "outputs": [],
   "source": [
    "AAPL_copy['Date'] = pd.to_datetime(AAPL_copy['Date'])\n",
    "AMD_copy['Date'] = pd.to_datetime(AMD_copy['Date'])"
   ]
  },
  {
   "cell_type": "markdown",
   "metadata": {},
   "source": [
    "## Handling Null Values"
   ]
  },
  {
   "cell_type": "code",
   "execution_count": 25,
   "metadata": {},
   "outputs": [],
   "source": [
    "def insert_holidays(data, start_date, end_date):\n",
    "    data = data.set_index('Date')\n",
    "    date_range = pd.date_range(start = start_date, end = end_date, freq='D')\n",
    "    full_date = pd.DataFrame(index = date_range)\n",
    "    new_data = data.merge(full_date, how='outer', left_index = True, right_index = True)\n",
    "    new_data = new_data.reset_index()\n",
    "    new_data.rename(columns={'index': 'Date'}, inplace = True)\n",
    "    new_data.fillna(method = 'ffill', inplace = True)\n",
    "    return new_data"
   ]
  },
  {
   "cell_type": "code",
   "execution_count": 26,
   "metadata": {},
   "outputs": [],
   "source": [
    "AAPL_with_holidays = AAPL_copy.copy()\n",
    "AMD_with_holidays = AMD_copy.copy()\n",
    "\n",
    "AAPL_with_holidays = insert_holidays(AAPL_with_holidays,'12/12/1980','4/1/2020')\n",
    "AMD_with_holidays = insert_holidays(AMD_with_holidays,'3/17/1980','4/1/2020')"
   ]
  },
  {
   "cell_type": "markdown",
   "metadata": {
    "nteract": {
     "transient": {
      "deleting": false
     }
    }
   },
   "source": [
    "## Feature Engineering"
   ]
  },
  {
   "cell_type": "code",
   "execution_count": 27,
   "metadata": {},
   "outputs": [],
   "source": [
    "AAPL_with_holidays['Day'] = AAPL_with_holidays['Date'].dt.dayofweek\n",
    "AMD_with_holidays['Day'] = AMD_with_holidays['Date'].dt.dayofweek"
   ]
  },
  {
   "cell_type": "markdown",
   "metadata": {},
   "source": [
    "# Create Window and Horizon"
   ]
  },
  {
   "cell_type": "code",
   "execution_count": 28,
   "metadata": {
    "gather": {
     "logged": 1688363327365
    },
    "jupyter": {
     "outputs_hidden": false,
     "source_hidden": false
    },
    "nteract": {
     "transient": {
      "deleting": false
     }
    }
   },
   "outputs": [],
   "source": [
    "def create_x_y(data):\n",
    "    data = data[['Day', 'Close']]\n",
    "    X = []\n",
    "    y = []\n",
    "\n",
    "    for i in range(len(data)):\n",
    "        if data.loc[i,'Day'] == 0:\n",
    "            X.append(data.loc[i:i+4, 'Close'].values)\n",
    "            y.append(data.loc[i, 'Close'])\n",
    "\n",
    "    X = pd.DataFrame(X)\n",
    "    y = pd.DataFrame(y)\n",
    "    return X, y"
   ]
  },
  {
   "cell_type": "code",
   "execution_count": 29,
   "metadata": {
    "gather": {
     "logged": 1688363398568
    },
    "jupyter": {
     "outputs_hidden": false,
     "source_hidden": false
    },
    "nteract": {
     "transient": {
      "deleting": false
     }
    }
   },
   "outputs": [],
   "source": [
    "AAPL_x, AAPL_y = create_x_y(AAPL_with_holidays)\n",
    "AMD_x , AMD_y = create_x_y(AMD_with_holidays)"
   ]
  },
  {
   "cell_type": "markdown",
   "metadata": {},
   "source": [
    "# Scaling"
   ]
  },
  {
   "cell_type": "code",
   "execution_count": 331,
   "metadata": {
    "gather": {
     "logged": 1688363411077
    },
    "jupyter": {
     "outputs_hidden": false,
     "source_hidden": false
    },
    "nteract": {
     "transient": {
      "deleting": false
     }
    }
   },
   "outputs": [],
   "source": [
    "scaler = RobustScaler()\n",
    "\n",
    "AAPL_x_scaled = AAPL_x.copy()\n",
    "AMD_x_scaled = AMD_x.copy()\n",
    "\n",
    "AAPL_x_scaled = scaler.fit_transform(AAPL_x)\n",
    "AMD_x_scaled = scaler.fit_transform(AMD_x)"
   ]
  },
  {
   "cell_type": "markdown",
   "metadata": {
    "nteract": {
     "transient": {
      "deleting": false
     }
    }
   },
   "source": [
    "# Split x and y into train (80%), validation (10%), and test (10%)"
   ]
  },
  {
   "cell_type": "code",
   "execution_count": 332,
   "metadata": {
    "gather": {
     "logged": 1688363427568
    },
    "jupyter": {
     "outputs_hidden": false,
     "source_hidden": false
    },
    "nteract": {
     "transient": {
      "deleting": false
     }
    }
   },
   "outputs": [
    {
     "name": "stdout",
     "output_type": "stream",
     "text": [
      "Train\n",
      "X_train: (1640, 5)\n",
      "y_train: (1640, 1)\n",
      "Validation\n",
      "X_val: (205, 5)\n",
      "y_val: (205, 1)\n",
      "Test\n",
      "X_test: (205, 5)\n",
      "y_test: (205, 1)\n"
     ]
    }
   ],
   "source": [
    "# AAPL\n",
    "AAPL_X_train,AAPL_y_train = AAPL_x_scaled[:1640,:], AAPL_y.iloc[1:1641,:]\n",
    "AAPL_X_val,AAPL_y_val = AAPL_x_scaled[1640:1845,:], AAPL_y.iloc[1641:1846,:]\n",
    "AAPL_X_test,AAPL_y_test = AAPL_x_scaled[1845:2050,:], AAPL_y.iloc[1846:,:]\n",
    "\n",
    "print(\"Train\")\n",
    "print(f\"X_train: {AAPL_X_train.shape}\")\n",
    "print(f\"y_train: {AAPL_y_train.shape}\")\n",
    "\n",
    "print(\"Validation\")\n",
    "print(f\"X_val: {AAPL_X_val.shape}\")\n",
    "print(f\"y_val: {AAPL_y_val.shape}\")\n",
    "\n",
    "print(\"Test\")\n",
    "print(f\"X_test: {AAPL_X_test.shape}\")\n",
    "print(f\"y_test: {AAPL_y_test.shape}\")"
   ]
  },
  {
   "cell_type": "code",
   "execution_count": 333,
   "metadata": {},
   "outputs": [
    {
     "name": "stdout",
     "output_type": "stream",
     "text": [
      "Train\n",
      "X_train: (1672, 5)\n",
      "y_train: (1672, 1)\n",
      "Validation\n",
      "X_val: (209, 5)\n",
      "y_val: (209, 1)\n",
      "Test\n",
      "X_test: (208, 5)\n",
      "y_test: (208, 1)\n"
     ]
    }
   ],
   "source": [
    "# AMD\n",
    "AMD_X_train,AMD_y_train = AMD_x_scaled[:1672,:], AMD_y.iloc[1:1673:]\n",
    "AMD_X_val,AMD_y_val = AMD_x_scaled[1672:1881,:], AMD_y.iloc[1673:1882,:]\n",
    "AMD_X_test,AMD_y_test = AMD_x_scaled[1881:-1,:], AMD_y.iloc[1882:,:]\n",
    "\n",
    "print(\"Train\")\n",
    "print(f\"X_train: {AMD_X_train.shape}\")\n",
    "print(f\"y_train: {AMD_y_train.shape}\")\n",
    "\n",
    "print(\"Validation\")\n",
    "print(f\"X_val: {AMD_X_val.shape}\")\n",
    "print(f\"y_val: {AMD_y_val.shape}\")\n",
    "\n",
    "print(\"Test\")\n",
    "print(f\"X_test: {AMD_X_test.shape}\")\n",
    "print(f\"y_test: {AMD_y_test.shape}\")"
   ]
  },
  {
   "cell_type": "markdown",
   "metadata": {
    "nteract": {
     "transient": {
      "deleting": false
     }
    },
    "tags": []
   },
   "source": [
    "# Base Model"
   ]
  },
  {
   "cell_type": "markdown",
   "metadata": {},
   "source": [
    "**Arstitektur baseline**\n",
    "\n",
    "Baseline model yang hanya terdiri dari **1 hidden layer** dan **1 output layer**. Hidden layer terdiri dari **1 layer LSTM**, dimana ada **50 unit** di dalam layernya. Disamping itu, terdapat juga **output layer**, yang hanya terdiri dari **1 layer Dense** berjumlah **1 unit**. \n",
    "\n",
    "**Evaluasi**\n",
    "\n",
    "Setelah baseline di latih pada kedua dataset, performa prediksi harga saham yang dihasilkan berbeda untuk setiap dataset berdasarkan nilai **MAE**. Dengan nilai MAE, nilai pengukuran rata rata error dapat lebih natural dibandingkan RMSE [1]. Untuk metrics lainnya dapat dilihat pada tabel di bawah ini.\n",
    "\n",
    "| Model | RMSE | MAE | MAPE |\n",
    "| --- | --- | --- | --- |\n",
    "| LSTM (AAPL) | 18.7 | 14 | 0.06 |\n",
    "| LSTM (AMD) | 2.21 | 1.44 | 0.06 |\n",
    "\n",
    "Tidak berhenti pada RMSE, evaluasi juga dilakukan melalui **plotting harga prediksi dengan harga aktual**, untuk **mengidentifikasi** apakah **nilai prediksi tidak jauh** atau **meleset dari nilai aktual**. Menariknya, **baseline model** yang dilatih untuk dataset **AMD** menghasilkan **harga prediksi** yang **sangat dekat dengan harga aktual**, dapat dilihat pada [AMD baseline prediction plot](#AMD-baseline-prediction-plot). Di sisi lain, **baseline model** yang dilatih untuk dataset **AAPL** lebih buruk dibandingkan dengan baseline yang dilatih dengan dataset AMD ([AAPL baseline prediction plot](#AAPL-baseline-prediction-plot)). Posisi **harga prediksi** berada **di atas nilai aktual**. Hal ini **di indikasikan** bahwa jika dilihat dari **history loss saat training**, plot dari dataset **AAPL** memiliki progress **penurunan** angka **loss** yang **tidak stabil** ([AAPL baseline loss plot](#AAPL-baseline-loss-plot)) dibandingkan AMD ([AMD baseline loss plot](#AAPL-baseline-loss-plot)).\n",
    "\n",
    "Referensi:\n",
    "\n",
    "[1]. *Willmott, C., & Matsuura, K. (2005). Advantages of the mean absolute error (MAE) over the root mean square error (RMSE) in assessing average model performance. Climate Research, 30, 79–82. doi:10.3354/cr030079*\n"
   ]
  },
  {
   "cell_type": "markdown",
   "metadata": {
    "nteract": {
     "transient": {
      "deleting": false
     }
    },
    "tags": []
   },
   "source": [
    "## Architecture"
   ]
  },
  {
   "cell_type": "code",
   "execution_count": 465,
   "metadata": {},
   "outputs": [],
   "source": [
    "K.clear_session()\n",
    "del lstm"
   ]
  },
  {
   "cell_type": "code",
   "execution_count": 466,
   "metadata": {
    "gather": {
     "logged": 1688363434403
    },
    "jupyter": {
     "outputs_hidden": false,
     "source_hidden": false
    },
    "nteract": {
     "transient": {
      "deleting": false
     }
    }
   },
   "outputs": [],
   "source": [
    "lstm = Sequential()\n",
    "lstm.add(LSTM(50, input_shape=(5,1),activation='relu'))\n",
    "lstm.add(Dense(1, activation = 'linear'))"
   ]
  },
  {
   "cell_type": "code",
   "execution_count": 467,
   "metadata": {
    "gather": {
     "logged": 1688363439496
    },
    "jupyter": {
     "outputs_hidden": false,
     "source_hidden": false
    },
    "nteract": {
     "transient": {
      "deleting": false
     }
    }
   },
   "outputs": [
    {
     "name": "stdout",
     "output_type": "stream",
     "text": [
      "Model: \"sequential\"\n",
      "_________________________________________________________________\n",
      " Layer (type)                Output Shape              Param #   \n",
      "=================================================================\n",
      " lstm (LSTM)                 (None, 50)                10400     \n",
      "                                                                 \n",
      " dense (Dense)               (None, 1)                 51        \n",
      "                                                                 \n",
      "=================================================================\n",
      "Total params: 10,451\n",
      "Trainable params: 10,451\n",
      "Non-trainable params: 0\n",
      "_________________________________________________________________\n"
     ]
    }
   ],
   "source": [
    "lstm.compile(loss = 'mean_squared_error', optimizer = 'adam')\n",
    "lstm.summary()"
   ]
  },
  {
   "cell_type": "markdown",
   "metadata": {
    "nteract": {
     "transient": {
      "deleting": false
     }
    },
    "tags": []
   },
   "source": [
    "## Training"
   ]
  },
  {
   "cell_type": "code",
   "execution_count": 461,
   "metadata": {
    "gather": {
     "logged": 1688363454988
    },
    "jupyter": {
     "outputs_hidden": false,
     "source_hidden": false
    },
    "nteract": {
     "transient": {
      "deleting": false
     }
    }
   },
   "outputs": [
    {
     "name": "stdout",
     "output_type": "stream",
     "text": [
      "Epoch 1/10\n",
      "410/410 [==============================] - 2s 3ms/step - loss: 52.6774 - val_loss: 118.5550\n",
      "Epoch 2/10\n",
      "410/410 [==============================] - 1s 3ms/step - loss: 1.1855 - val_loss: 253.4058\n",
      "Epoch 3/10\n",
      "410/410 [==============================] - 1s 3ms/step - loss: 1.0950 - val_loss: 23.2112\n",
      "Epoch 4/10\n",
      "410/410 [==============================] - 1s 3ms/step - loss: 0.8955 - val_loss: 24.8890\n",
      "Epoch 5/10\n",
      "410/410 [==============================] - 1s 3ms/step - loss: 1.2051 - val_loss: 132.4370\n",
      "Epoch 6/10\n",
      "410/410 [==============================] - 1s 3ms/step - loss: 1.0804 - val_loss: 23.9355\n",
      "Epoch 7/10\n",
      "410/410 [==============================] - 1s 3ms/step - loss: 1.1511 - val_loss: 15.4869\n",
      "Epoch 8/10\n",
      "410/410 [==============================] - 1s 3ms/step - loss: 0.8821 - val_loss: 22.4427\n",
      "Epoch 9/10\n",
      "410/410 [==============================] - 1s 3ms/step - loss: 1.3321 - val_loss: 46.8999\n",
      "Epoch 10/10\n",
      "410/410 [==============================] - 1s 3ms/step - loss: 0.9208 - val_loss: 12.4135\n"
     ]
    }
   ],
   "source": [
    "AAPL_history = lstm.fit(AAPL_X_train, AAPL_y_train, batch_size = 4, epochs = 10, validation_data = (AAPL_X_val, AAPL_y_val))"
   ]
  },
  {
   "cell_type": "code",
   "execution_count": 468,
   "metadata": {},
   "outputs": [
    {
     "name": "stdout",
     "output_type": "stream",
     "text": [
      "Epoch 1/10\n",
      "418/418 [==============================] - 2s 3ms/step - loss: 38.3782 - val_loss: 3.6345\n",
      "Epoch 2/10\n",
      "418/418 [==============================] - 1s 3ms/step - loss: 1.7379 - val_loss: 1.2985\n",
      "Epoch 3/10\n",
      "418/418 [==============================] - 1s 3ms/step - loss: 1.2459 - val_loss: 0.3633\n",
      "Epoch 4/10\n",
      "418/418 [==============================] - 1s 3ms/step - loss: 1.3400 - val_loss: 0.5233\n",
      "Epoch 5/10\n",
      "418/418 [==============================] - 1s 3ms/step - loss: 1.1642 - val_loss: 0.6678\n",
      "Epoch 6/10\n",
      "418/418 [==============================] - 1s 3ms/step - loss: 1.2634 - val_loss: 0.2588\n",
      "Epoch 7/10\n",
      "418/418 [==============================] - 1s 3ms/step - loss: 1.3231 - val_loss: 0.1230\n",
      "Epoch 8/10\n",
      "418/418 [==============================] - 1s 3ms/step - loss: 1.1842 - val_loss: 0.0987\n",
      "Epoch 9/10\n",
      "418/418 [==============================] - 1s 3ms/step - loss: 1.2427 - val_loss: 0.0676\n",
      "Epoch 10/10\n",
      "418/418 [==============================] - 1s 3ms/step - loss: 1.1605 - val_loss: 0.1751\n"
     ]
    }
   ],
   "source": [
    "AMD_history = lstm.fit(AMD_X_train, AMD_y_train, batch_size = 4, epochs = 10, validation_data = (AMD_X_val, AMD_y_val))"
   ]
  },
  {
   "cell_type": "markdown",
   "metadata": {
    "nteract": {
     "transient": {
      "deleting": false
     }
    },
    "tags": []
   },
   "source": [
    "## Evaluate"
   ]
  },
  {
   "cell_type": "markdown",
   "metadata": {
    "jp-MarkdownHeadingCollapsed": true,
    "tags": []
   },
   "source": [
    "### Define function"
   ]
  },
  {
   "cell_type": "code",
   "execution_count": 455,
   "metadata": {},
   "outputs": [],
   "source": [
    "class ModelEvaluation():\n",
    "    def __init__(self, trained_model, loss_history, test_data):\n",
    "        self.model = trained_model\n",
    "        self.test_data = test_data\n",
    "        self.loss_history = loss_history.history['loss']\n",
    "        self.val_loss_history = loss_history.history['val_loss']\n",
    "        self.pred_data, self.rmse, self.mae, self.mape = self.__show_metrics()\n",
    "        \n",
    "    def __show_metrics(self):\n",
    "        X_test, y_test = self.test_data[0], self.test_data[1]\n",
    "        pred = self.model.predict(X_test)\n",
    "        rmse = np.sqrt(mean_squared_error(pred, y_test.values))\n",
    "        mae = mean_absolute_error(pred, y_test.values)\n",
    "        mape = mean_absolute_percentage_error(pred, y_test.values)\n",
    "\n",
    "        print(\"Score (RMSE): {}\".format(rmse))\n",
    "        print(\"Score (MAE): {}\".format(mae))\n",
    "        print(\"Score (MAPE): {}\".format(mape))\n",
    "        return pred, rmse, mae, mape\n",
    "    \n",
    "    def loss_plot(self):\n",
    "        mse = self.loss_history\n",
    "        mse_val = self.val_loss_history\n",
    "        epochs = range(len(mse))\n",
    "\n",
    "        plt.figure(figsize = (6,3))\n",
    "        plt.plot(epochs, mse, label= 'Training')\n",
    "        plt.plot(epochs, mse_val, label= 'Validation')\n",
    "        plt.legend()\n",
    "        plt.tight_layout()\n",
    "        plt.show()\n",
    "    \n",
    "    def prediction_plot(self):\n",
    "        y_test = self.test_data[1]\n",
    "        plt.plot(range(len(self.pred_data)), self.pred_data, label= 'Prediction')\n",
    "        plt.plot(range(len(y_test)), y_test.values, label= 'Actual')\n",
    "        plt.legend()\n",
    "        plt.tight_layout()\n",
    "        plt.show()"
   ]
  },
  {
   "cell_type": "markdown",
   "metadata": {
    "tags": []
   },
   "source": [
    "### AAPL"
   ]
  },
  {
   "cell_type": "markdown",
   "metadata": {},
   "source": [
    "#### Metrics"
   ]
  },
  {
   "cell_type": "code",
   "execution_count": 462,
   "metadata": {},
   "outputs": [
    {
     "name": "stdout",
     "output_type": "stream",
     "text": [
      "7/7 [==============================] - 0s 2ms/step\n",
      "Score (RMSE): 18.706489857393915\n",
      "Score (MAE): 13.929915674721322\n",
      "Score (MAPE): 0.06384613791080285\n"
     ]
    }
   ],
   "source": [
    "AAPL_evaluate = ModelEvaluation(lstm, AAPL_history, (AAPL_X_test, AAPL_y_test))"
   ]
  },
  {
   "cell_type": "markdown",
   "metadata": {},
   "source": [
    "#### AAPL baseline loss plot "
   ]
  },
  {
   "cell_type": "code",
   "execution_count": 463,
   "metadata": {},
   "outputs": [
    {
     "data": {
      "image/png": "[encoded data removed]",
      "text/plain": [
       "<Figure size 600x300 with 1 Axes>"
      ]
     },
     "metadata": {},
     "output_type": "display_data"
    }
   ],
   "source": [
    "AAPL_evaluate.loss_plot()"
   ]
  },
  {
   "cell_type": "markdown",
   "metadata": {},
   "source": [
    "[Kembali ke pemaparan](#Base-Model)"
   ]
  },
  {
   "cell_type": "markdown",
   "metadata": {},
   "source": [
    "#### AAPL baseline prediction plot"
   ]
  },
  {
   "cell_type": "code",
   "execution_count": 464,
   "metadata": {},
   "outputs": [
    {
     "data": {
      "image/png": "[encoded data removed]",
      "text/plain": [
       "<Figure size 640x480 with 1 Axes>"
      ]
     },
     "metadata": {},
     "output_type": "display_data"
    }
   ],
   "source": [
    "AAPL_evaluate.prediction_plot()"
   ]
  },
  {
   "cell_type": "markdown",
   "metadata": {},
   "source": [
    "[Kembali ke pemaparan](#Base-Model)"
   ]
  },
  {
   "cell_type": "markdown",
   "metadata": {
    "tags": []
   },
   "source": [
    "### AMD"
   ]
  },
  {
   "cell_type": "code",
   "execution_count": 469,
   "metadata": {},
   "outputs": [
    {
     "name": "stdout",
     "output_type": "stream",
     "text": [
      "7/7 [==============================] - 0s 2ms/step\n",
      "Score (RMSE): 2.2130583051539943\n",
      "Score (MAE): 1.4487930834293365\n",
      "Score (MAPE): 0.0689265855359117\n"
     ]
    }
   ],
   "source": [
    "AMD_evaluate = ModelEvaluation(lstm, AMD_history, (AMD_X_test, AMD_y_test))"
   ]
  },
  {
   "cell_type": "markdown",
   "metadata": {},
   "source": [
    "#### AMD baseline loss plot "
   ]
  },
  {
   "cell_type": "code",
   "execution_count": 470,
   "metadata": {},
   "outputs": [
    {
     "data": {
      "image/png": "[encoded data removed]",
      "text/plain": [
       "<Figure size 600x300 with 1 Axes>"
      ]
     },
     "metadata": {},
     "output_type": "display_data"
    }
   ],
   "source": [
    "AMD_evaluate.loss_plot()"
   ]
  },
  {
   "cell_type": "markdown",
   "metadata": {},
   "source": [
    "[Kembali ke pemaparan](#Base-Model)"
   ]
  },
  {
   "cell_type": "markdown",
   "metadata": {},
   "source": [
    "#### AMD baseline prediction plot "
   ]
  },
  {
   "cell_type": "code",
   "execution_count": 471,
   "metadata": {},
   "outputs": [
    {
     "data": {
      "image/png": "[encoded data removed]",
      "text/plain": [
       "<Figure size 640x480 with 1 Axes>"
      ]
     },
     "metadata": {},
     "output_type": "display_data"
    }
   ],
   "source": [
    "AMD_evaluate.prediction_plot()"
   ]
  },
  {
   "cell_type": "markdown",
   "metadata": {},
   "source": [
    "[Kembali ke pemaparan](#Base-Model)"
   ]
  },
  {
   "cell_type": "markdown",
   "metadata": {
    "jp-MarkdownHeadingCollapsed": true,
    "tags": []
   },
   "source": [
    "## Architecture"
   ]
  },
  {
   "cell_type": "code",
   "execution_count": 438,
   "metadata": {
    "jupyter": {
     "outputs_hidden": false,
     "source_hidden": false
    },
    "nteract": {
     "transient": {
      "deleting": false
     }
    }
   },
   "outputs": [],
   "source": [
    "lstm_5 = Sequential()\n",
    "lstm_5.add(Conv1D(input_shape = (5, 1), filters=64, kernel_size=5, activation='relu'))\n",
    "lstm_5.add(MaxPooling1D(padding ='same',strides = 1))\n",
    "lstm_5.add(Conv1D(input_shape = (5, 1), filters=128, kernel_size=1, activation='relu'))\n",
    "lstm_5.add(MaxPooling1D(padding ='same',strides = 1))\n",
    "# lstm_5.add(Flatten())\n",
    "lstm_5.add(Bidirectional(LSTM(32, activation='relu',return_sequences=True)))\n",
    "# lstm_5.add(GRU(32, activation='relu'))\n",
    "# lstm_5.add(Bidirectional(LSTM(32, activation='relu',return_sequences=True)))\n",
    "lstm_5.add(Bidirectional(LSTM(32, activation='relu')))\n",
    "lstm_5.add(Dense(1,activation='linear'))"
   ]
  },
  {
   "cell_type": "code",
   "execution_count": 439,
   "metadata": {},
   "outputs": [
    {
     "name": "stdout",
     "output_type": "stream",
     "text": [
      "Model: \"sequential\"\n",
      "_________________________________________________________________\n",
      " Layer (type)                Output Shape              Param #   \n",
      "=================================================================\n",
      " conv1d (Conv1D)             (None, 1, 64)             384       \n",
      "                                                                 \n",
      " max_pooling1d (MaxPooling1D  (None, 1, 64)            0         \n",
      " )                                                               \n",
      "                                                                 \n",
      " conv1d_1 (Conv1D)           (None, 1, 128)            8320      \n",
      "                                                                 \n",
      " max_pooling1d_1 (MaxPooling  (None, 1, 128)           0         \n",
      " 1D)                                                             \n",
      "                                                                 \n",
      " bidirectional (Bidirectiona  (None, 1, 64)            41216     \n",
      " l)                                                              \n",
      "                                                                 \n",
      " bidirectional_1 (Bidirectio  (None, 64)               24832     \n",
      " nal)                                                            \n",
      "                                                                 \n",
      " dense (Dense)               (None, 1)                 65        \n",
      "                                                                 \n",
      "=================================================================\n",
      "Total params: 74,817\n",
      "Trainable params: 74,817\n",
      "Non-trainable params: 0\n",
      "_________________________________________________________________\n"
     ]
    }
   ],
   "source": [
    "lstm_5.compile(loss='mean_squared_error',optimizer='adam')\n",
    "lstm_5.summary()"
   ]
  },
  {
   "cell_type": "markdown",
   "metadata": {},
   "source": [
    "## Training"
   ]
  },
  {
   "cell_type": "code",
   "execution_count": 434,
   "metadata": {},
   "outputs": [
    {
     "name": "stdout",
     "output_type": "stream",
     "text": [
      "Epoch 1/10\n",
      "410/410 [==============================] - 8s 5ms/step - loss: 35.0561 - val_loss: 9.1646\n",
      "Epoch 2/10\n",
      "410/410 [==============================] - 2s 4ms/step - loss: 0.8722 - val_loss: 6.9901\n",
      "Epoch 3/10\n",
      "410/410 [==============================] - 1s 4ms/step - loss: 1.1121 - val_loss: 6.1408\n",
      "Epoch 4/10\n",
      "410/410 [==============================] - 1s 4ms/step - loss: 0.5730 - val_loss: 5.8362\n",
      "Epoch 5/10\n",
      "410/410 [==============================] - 1s 4ms/step - loss: 0.6666 - val_loss: 15.2488\n",
      "Epoch 6/10\n",
      "410/410 [==============================] - 1s 4ms/step - loss: 1.1474 - val_loss: 7.5760\n",
      "Epoch 7/10\n",
      "410/410 [==============================] - 2s 4ms/step - loss: 0.7331 - val_loss: 6.0333\n",
      "Epoch 8/10\n",
      "410/410 [==============================] - 1s 4ms/step - loss: 1.3545 - val_loss: 7.9395\n",
      "Epoch 9/10\n",
      "410/410 [==============================] - 1s 4ms/step - loss: 1.5143 - val_loss: 5.7265\n",
      "Epoch 10/10\n",
      "410/410 [==============================] - 2s 4ms/step - loss: 1.0364 - val_loss: 4.7638\n"
     ]
    }
   ],
   "source": [
    "AAPL_history_lstm_5 = lstm_5.fit(AAPL_X_train, AAPL_y_train, batch_size = 4, epochs = 10, validation_data=(AAPL_X_val, AAPL_y_val))"
   ]
  },
  {
   "cell_type": "code",
   "execution_count": 440,
   "metadata": {},
   "outputs": [
    {
     "name": "stdout",
     "output_type": "stream",
     "text": [
      "Epoch 1/10\n",
      "418/418 [==============================] - 6s 5ms/step - loss: 23.3201 - val_loss: 0.3973\n",
      "Epoch 2/10\n",
      "418/418 [==============================] - 1s 3ms/step - loss: 0.6609 - val_loss: 0.2154\n",
      "Epoch 3/10\n",
      "418/418 [==============================] - 1s 3ms/step - loss: 0.6669 - val_loss: 0.2390\n",
      "Epoch 4/10\n",
      "418/418 [==============================] - 2s 4ms/step - loss: 0.5169 - val_loss: 0.1751\n",
      "Epoch 5/10\n",
      "418/418 [==============================] - 2s 4ms/step - loss: 0.5086 - val_loss: 0.2159\n",
      "Epoch 6/10\n",
      "418/418 [==============================] - 1s 3ms/step - loss: 0.5585 - val_loss: 0.0304\n",
      "Epoch 7/10\n",
      "418/418 [==============================] - 1s 4ms/step - loss: 0.4829 - val_loss: 0.0372\n",
      "Epoch 8/10\n",
      "418/418 [==============================] - 2s 4ms/step - loss: 0.4822 - val_loss: 0.0220\n",
      "Epoch 9/10\n",
      "418/418 [==============================] - 2s 4ms/step - loss: 0.4599 - val_loss: 0.0627\n",
      "Epoch 10/10\n",
      "418/418 [==============================] - 2s 4ms/step - loss: 0.4755 - val_loss: 0.1236\n"
     ]
    }
   ],
   "source": [
    "AMD_history_lstm_5 = lstm_5.fit(AMD_X_train, AMD_y_train, batch_size=4, epochs=10, validation_data=(AMD_X_val, AMD_y_val))"
   ]
  },
  {
   "cell_type": "markdown",
   "metadata": {},
   "source": [
    "## Evaluate"
   ]
  },
  {
   "cell_type": "markdown",
   "metadata": {},
   "source": [
    "### AAPL"
   ]
  },
  {
   "cell_type": "markdown",
   "metadata": {},
   "source": [
    "#### Metrics"
   ]
  },
  {
   "cell_type": "code",
   "execution_count": 435,
   "metadata": {},
   "outputs": [
    {
     "name": "stdout",
     "output_type": "stream",
     "text": [
      "7/7 [==============================] - 1s 2ms/step\n",
      "Score (RMSE): 6.545186713254497\n",
      "Score (MAE): 4.897866374690357\n",
      "Score (MAPE): 0.026199701806714496\n"
     ]
    }
   ],
   "source": [
    "AAPL_evaluate_lstm_5 = ModelEvaluation(lstm_5, AAPL_history_lstm_5, (AAPL_X_test, AAPL_y_test))"
   ]
  },
  {
   "cell_type": "markdown",
   "metadata": {},
   "source": [
    "#### AAPL modification prediction plot"
   ]
  },
  {
   "cell_type": "code",
   "execution_count": 436,
   "metadata": {},
   "outputs": [
    {
     "data": {
      "image/png": "[encoded data removed]",
      "text/plain": [
       "<Figure size 640x480 with 1 Axes>"
      ]
     },
     "metadata": {},
     "output_type": "display_data"
    }
   ],
   "source": [
    "AAPL_evaluate_lstm_5.prediction_plot()"
   ]
  },
  {
   "cell_type": "markdown",
   "metadata": {},
   "source": [
    "### AMD"
   ]
  },
  {
   "cell_type": "markdown",
   "metadata": {},
   "source": [
    "#### Metrics"
   ]
  },
  {
   "cell_type": "code",
   "execution_count": 441,
   "metadata": {},
   "outputs": [
    {
     "name": "stdout",
     "output_type": "stream",
     "text": [
      "7/7 [==============================] - 1s 2ms/step\n",
      "Score (RMSE): 1.2801682547867557\n",
      "Score (MAE): 1.044248668047098\n",
      "Score (MAPE): 0.07079321376763778\n"
     ]
    }
   ],
   "source": [
    "AMD_evaluate_lstm_5 = ModelEvaluation(lstm_5, AMD_history_lstm_5, (AMD_X_test, AMD_y_test))"
   ]
  },
  {
   "cell_type": "markdown",
   "metadata": {},
   "source": [
    "#### AMD modification prediction plot"
   ]
  },
  {
   "cell_type": "code",
   "execution_count": 442,
   "metadata": {},
   "outputs": [
    {
     "data": {
      "image/png": "[encoded data removed]",
      "text/plain": [
       "<Figure size 640x480 with 1 Axes>"
      ]
     },
     "metadata": {},
     "output_type": "display_data"
    }
   ],
   "source": [
    "AMD_evaluate_lstm_5.prediction_plot()"
   ]
  },
  {
   "cell_type": "markdown",
   "metadata": {
    "tags": []
   },
   "source": [
    "# Model Modification"
   ]
  },
  {
   "cell_type": "markdown",
   "metadata": {},
   "source": [
    "**Arsitektur model modifikasi**\n",
    "\n",
    "Model modifikasi terdapat **convolutional 1D layer**. Keputusan penggunaan convolutional 1D disebabkan karena data yang akan dilatih adalah data berbentuk sequence, lebih spesifiknya adalah **time series**. Keberadaan convolutional layer tidak luput dari **pooling layer**. Hal ini disebabkan karena inti dari CNN layer adalah terdapat convolutional layer, pooling layer, dan fully connected layer [1]. Setelah itu, **LSTM layer** dibungkus **dengan Bidirectional**, sehingga menjadi BiLSTM. BiLSTM berfungsi agar model mampu berlatih secara 2 arah kanan ke kiri dan sebaliknya [2]. Model ini memiliki referensi utama dari jurnal yang berjudul \"Predicting Stock Market time-series data using CNN-LSTM Neural Network model\" tahun 2023 [3]. Namun, masih ada penyesuaian untuk mendapatkan hasil yang optimal. Hasil dari penyesuaian meliputi banyak unit **LSTM** sebanyak **32 unit** [4]. Selain itu, terdapat penghapusan layer pada layer CNN yang kedua dan ketiga dari referensi utama karena dengan asumsi data train yang lebih sedikit dari referensi utama, yaitu bisa mencapai 100 kolom [3]. Sehingga, model yang dibangun hanya memiliki **1 CNN layer**. Penggunaan 1 layer CNN juga baik digunakan dalam kasus prediksi harga saham yang dilakukan oleh Wenjie Lu tahun 2020 lalu [4]. Terakhir, penggunaan **activation function** mengacu pada baseline model, yaitu **relu** pada hidden layer dan **linear** pada output layer. \n",
    "\n",
    "\n",
    "**Evaluasi**\n",
    "\n",
    "Arsitektur baseline baik dalam memprediksi harga saham AMD, namun tidak untuk saham AAPL. Jika diteliti lebih lagi, **pergerakan** harga saham **AAPL** cenderung **lebih tinggi** dibandingkan dengan harga saham AMD, yaitu mencapai **350 lebih**, dapat dilihat pada [AAPL baseline prediction plot](#AAPL-baseline-prediction-plot). Sedangkan harga saham **AMD** tidak sampai melebihi 100 ([AMD baseline prediction plot](#AMD-baseline-prediction-plot)). Maka dari hal tersebut dapat disimpulkan bahwa **LSTM layer** pada **base model tidak cukup baik** dalam **prediksi harga** ketika **input melebihi harga saham AMD**. Input dari dataset **AAPL** yang **memiliki range cukup lebar** melebihi harga saham AMD tersebut **menyebabkan komputasi** di dalam **LSTM layer menghasilkan nilai yang besar**, lalu **menyebabkan harga prediksi meleset** [1]. Salah satu **solusi permasalahannya** dapat **menambahkan convolutional layer** dan mengubah LSTM menjadi **Bidirectional-LSTM**. **Convolutional layer** berfungsi **sebagai pengidentifikasi trend** yang ada [1]. Sehingga model mampu mengekstrak setiap sequences yang masuk. Penambahan **bidirectional** pada LSTM berfungsi agar mampu **bekerja dengan 2 arah** (kiri - kanan) dan (kanan-kiri). Karena pada dasarnya LSTM hanya bekerja satu arah saja, yaitu kiri ke kanan [2]. Dengan kemampuan tersebut LSTM mampu belajar pada data di masa depan maupun masa lalu. **Hasil model modifikasi** dapat dilihat pada plot ini, **trend harga prediksi** sudah **mendekat ke harga aktual** ([AAPL modification prediction plot](#Modification-AAPL-prediction-plot)). Hal itu juga terjadi pada data AMD ([AMD modification prediction plot](#Modification-AMD-prediction-plot)). Sisi baik lainnya, nilai metrics **RMSE** juga **lebih rendah dibandingkan baseline** untuk kedua dataset. Tabel metrics dapat dilihat di bawah ini.\n",
    "\n",
    "| Model | RMSE | MAE | MAPE |\n",
    "| --- | --- | --- | --- |\n",
    "| CNN + BiLSTM (AAPL) | 5.86 | 4.02 | 0.02 |\n",
    "| CNN + BiLSTM (AMD) | 1.19 | 0.72 | 0.04 |\n",
    "\n",
    "Referensi:\n",
    "\n",
    "[1]. *Lu, W., Li, J., Wang, J., & Qin, L. (2020). A CNN-BiLSTM-AM method for stock price prediction. Neural Computing and Applications. doi:10.1007/s00521-020-05532-z*\n",
    "\n",
    "[2]. *Haiyao Wang, et al. (2021). A Stock Closing Price Prediction Model Based on CNN-BiSLSTM. doi.org/10.1155/2021/5360828*\n",
    "\n",
    "[3]. *A, Aadhitya et al. (2023). Predicting Stock Market time-series data using CNN-LSTM Neural Network model*\n",
    "\n",
    "[4]. *Lu, W et al. (2020). A CNN-LSTM-Based Model to Forecast Stock Prices. https://doi.org/10.1155/2020/6622927*"
   ]
  },
  {
   "cell_type": "code",
   "execution_count": 478,
   "metadata": {},
   "outputs": [],
   "source": [
    "K.clear_session()\n",
    "del modified_model"
   ]
  },
  {
   "cell_type": "markdown",
   "metadata": {},
   "source": [
    "## Architecture"
   ]
  },
  {
   "cell_type": "code",
   "execution_count": 479,
   "metadata": {},
   "outputs": [],
   "source": [
    "modified_model = Sequential()\n",
    "modified_model.add(Conv1D(input_shape = (5, 1), filters=64, kernel_size=3, activation='relu'))\n",
    "modified_model.add(MaxPooling1D(padding ='same',strides = 1))\n",
    "modified_model.add(Bidirectional(LSTM(32, activation='relu')))\n",
    "modified_model.add(Dense(1,activation='linear'))"
   ]
  },
  {
   "cell_type": "code",
   "execution_count": 480,
   "metadata": {},
   "outputs": [
    {
     "name": "stdout",
     "output_type": "stream",
     "text": [
      "Model: \"sequential\"\n",
      "_________________________________________________________________\n",
      " Layer (type)                Output Shape              Param #   \n",
      "=================================================================\n",
      " conv1d (Conv1D)             (None, 3, 64)             256       \n",
      "                                                                 \n",
      " max_pooling1d (MaxPooling1D  (None, 3, 64)            0         \n",
      " )                                                               \n",
      "                                                                 \n",
      " bidirectional (Bidirectiona  (None, 64)               24832     \n",
      " l)                                                              \n",
      "                                                                 \n",
      " dense (Dense)               (None, 1)                 65        \n",
      "                                                                 \n",
      "=================================================================\n",
      "Total params: 25,153\n",
      "Trainable params: 25,153\n",
      "Non-trainable params: 0\n",
      "_________________________________________________________________\n"
     ]
    }
   ],
   "source": [
    "modified_model.compile(loss='mean_squared_error',optimizer='adam')\n",
    "modified_model.summary()"
   ]
  },
  {
   "cell_type": "markdown",
   "metadata": {},
   "source": [
    "## Training"
   ]
  },
  {
   "cell_type": "code",
   "execution_count": 475,
   "metadata": {},
   "outputs": [
    {
     "name": "stdout",
     "output_type": "stream",
     "text": [
      "Epoch 1/10\n",
      "410/410 [==============================] - 4s 4ms/step - loss: 45.7366 - val_loss: 15.2422\n",
      "Epoch 2/10\n",
      "410/410 [==============================] - 1s 3ms/step - loss: 0.3853 - val_loss: 7.8609\n",
      "Epoch 3/10\n",
      "410/410 [==============================] - 1s 3ms/step - loss: 0.4149 - val_loss: 5.0793\n",
      "Epoch 4/10\n",
      "410/410 [==============================] - 1s 3ms/step - loss: 0.4625 - val_loss: 73.2868\n",
      "Epoch 5/10\n",
      "410/410 [==============================] - 1s 3ms/step - loss: 1.0478 - val_loss: 6.4406\n",
      "Epoch 6/10\n",
      "410/410 [==============================] - 1s 3ms/step - loss: 0.6056 - val_loss: 5.3978\n",
      "Epoch 7/10\n",
      "410/410 [==============================] - 1s 3ms/step - loss: 0.6436 - val_loss: 19.7040\n",
      "Epoch 8/10\n",
      "410/410 [==============================] - 1s 3ms/step - loss: 0.5966 - val_loss: 10.4650\n",
      "Epoch 9/10\n",
      "410/410 [==============================] - 1s 3ms/step - loss: 0.3584 - val_loss: 6.0547\n",
      "Epoch 10/10\n",
      "410/410 [==============================] - 1s 3ms/step - loss: 1.1640 - val_loss: 8.1699\n"
     ]
    }
   ],
   "source": [
    "AAPL_history_lstm_modified = modified_model.fit(AAPL_X_train, AAPL_y_train, batch_size=4, epochs=10, validation_data=(AAPL_X_val, AAPL_y_val))"
   ]
  },
  {
   "cell_type": "code",
   "execution_count": 481,
   "metadata": {},
   "outputs": [
    {
     "name": "stdout",
     "output_type": "stream",
     "text": [
      "Epoch 1/10\n",
      "418/418 [==============================] - 6s 4ms/step - loss: 29.5810 - val_loss: 0.4194\n",
      "Epoch 2/10\n",
      "418/418 [==============================] - 1s 3ms/step - loss: 0.4645 - val_loss: 0.0724\n",
      "Epoch 3/10\n",
      "418/418 [==============================] - 1s 3ms/step - loss: 0.4682 - val_loss: 0.0335\n",
      "Epoch 4/10\n",
      "418/418 [==============================] - 1s 3ms/step - loss: 0.4345 - val_loss: 0.1090\n",
      "Epoch 5/10\n",
      "418/418 [==============================] - 2s 4ms/step - loss: 0.4930 - val_loss: 0.0295\n",
      "Epoch 6/10\n",
      "418/418 [==============================] - 2s 4ms/step - loss: 0.5267 - val_loss: 0.6208\n",
      "Epoch 7/10\n",
      "418/418 [==============================] - 1s 3ms/step - loss: 0.4149 - val_loss: 0.0711\n",
      "Epoch 8/10\n",
      "418/418 [==============================] - 1s 3ms/step - loss: 0.4238 - val_loss: 0.0542\n",
      "Epoch 9/10\n",
      "418/418 [==============================] - 1s 3ms/step - loss: 0.4154 - val_loss: 0.0338\n",
      "Epoch 10/10\n",
      "418/418 [==============================] - 1s 3ms/step - loss: 0.4828 - val_loss: 0.0439\n"
     ]
    }
   ],
   "source": [
    "AMD_history_lstm_modified = modified_model.fit(AMD_X_train, AMD_y_train, batch_size=4, epochs=10, validation_data=(AMD_X_val, AMD_y_val))"
   ]
  },
  {
   "cell_type": "markdown",
   "metadata": {
    "tags": []
   },
   "source": [
    "## Evaluate"
   ]
  },
  {
   "cell_type": "markdown",
   "metadata": {},
   "source": [
    "### AAPL"
   ]
  },
  {
   "cell_type": "markdown",
   "metadata": {},
   "source": [
    "#### Metrics"
   ]
  },
  {
   "cell_type": "code",
   "execution_count": 476,
   "metadata": {},
   "outputs": [
    {
     "name": "stdout",
     "output_type": "stream",
     "text": [
      "7/7 [==============================] - 0s 2ms/step\n",
      "Score (RMSE): 5.856828952392054\n",
      "Score (MAE): 4.028890879561261\n",
      "Score (MAPE): 0.02123865654623813\n"
     ]
    }
   ],
   "source": [
    "AAPL_evaluate_lstm_modified = ModelEvaluation(modified_model, AAPL_history_lstm_modified, (AAPL_X_test, AAPL_y_test))"
   ]
  },
  {
   "cell_type": "markdown",
   "metadata": {},
   "source": [
    "#### Modification AAPL prediction plot "
   ]
  },
  {
   "cell_type": "code",
   "execution_count": 477,
   "metadata": {},
   "outputs": [
    {
     "data": {
      "image/png": "[encoded data removed]",
      "text/plain": [
       "<Figure size 640x480 with 1 Axes>"
      ]
     },
     "metadata": {},
     "output_type": "display_data"
    }
   ],
   "source": [
    "AAPL_evaluate_lstm_modified.prediction_plot()"
   ]
  },
  {
   "cell_type": "markdown",
   "metadata": {},
   "source": [
    "[Kembali ke pemaparan](#Model-Modification)"
   ]
  },
  {
   "cell_type": "markdown",
   "metadata": {},
   "source": [
    "### AMD"
   ]
  },
  {
   "cell_type": "markdown",
   "metadata": {},
   "source": [
    "#### Metrics"
   ]
  },
  {
   "cell_type": "code",
   "execution_count": 483,
   "metadata": {},
   "outputs": [
    {
     "name": "stdout",
     "output_type": "stream",
     "text": [
      "7/7 [==============================] - 0s 2ms/step\n",
      "Score (RMSE): 1.188301488011002\n",
      "Score (MAE): 0.7250566551318537\n",
      "Score (MAPE): 0.03620524565047007\n"
     ]
    }
   ],
   "source": [
    "AMD_evaluate_lstm_modified = ModelEvaluation(modified_model, AMD_history_lstm_modified, (AMD_X_test, AMD_y_test))"
   ]
  },
  {
   "cell_type": "markdown",
   "metadata": {},
   "source": [
    "#### Modification AMD prediction plot"
   ]
  },
  {
   "cell_type": "code",
   "execution_count": 484,
   "metadata": {},
   "outputs": [
    {
     "data": {
      "image/png": "[encoded data removed]",
      "text/plain": [
       "<Figure size 640x480 with 1 Axes>"
      ]
     },
     "metadata": {},
     "output_type": "display_data"
    }
   ],
   "source": [
    "AMD_evaluate_lstm_modified.prediction_plot()"
   ]
  },
  {
   "cell_type": "markdown",
   "metadata": {},
   "source": [
    "[Kembali ke pemaparan](#Model-Modification)"
   ]
  },
  {
   "cell_type": "code",
   "execution_count": null,
   "metadata": {},
   "outputs": [],
   "source": []
  }
 ],
 "metadata": {
  "environment": {
   "kernel": "python3",
   "name": "tf2-gpu.2-11.m109",
   "type": "gcloud",
   "uri": "gcr.io/deeplearning-platform-release/tf2-gpu.2-11:m109"
  },
  "kernel_info": {
   "name": "python38-azureml"
  },
  "kernelspec": {
   "display_name": "Python 3 (ipykernel)",
   "language": "python",
   "name": "python3"
  },
  "language_info": {
   "codemirror_mode": {
    "name": "ipython",
    "version": 3
   },
   "file_extension": ".py",
   "mimetype": "text/x-python",
   "name": "python",
   "nbconvert_exporter": "python",
   "pygments_lexer": "ipython3",
   "version": "3.10.9"
  },
  "microsoft": {
   "host": {
    "AzureML": {
     "notebookHasBeenCompleted": true
    }
   },
   "ms_spell_check": {
    "ms_spell_check_language": "en"
   }
  },
  "nteract": {
   "version": "nteract-front-end@1.0.0"
  }
 },
 "nbformat": 4,
 "nbformat_minor": 4
}
